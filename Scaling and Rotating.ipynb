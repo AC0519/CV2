{
 "cells": [
  {
   "cell_type": "code",
   "execution_count": 1,
   "metadata": {},
   "outputs": [],
   "source": [
    "import numpy as np\n",
    "import cv2\n",
    "\n",
    "img = cv2.imread(\"players.jpg\", 1)"
   ]
  },
  {
   "cell_type": "code",
   "execution_count": null,
   "metadata": {},
   "outputs": [],
   "source": [
    "#Scaling\n",
    "img_half = cv2.resize(img, (0,0), fx=.5, fy=.5)\n",
    "img_stretch = cv2.resize(img, (600,600))\n",
    "img_stretch_near = cv2.resize(img, (600,600), interpolation=cv2.INTER_NEAREST)\n",
    "\n",
    "cv2.imshow(\"Half\",img_half)\n",
    "cv2.imshow(\"Stretch\",img_stretch)\n",
    "cv2.imshow(\"Stretch Near\",img_stretch_near)\n",
    "\n",
    "cv2.waitKey(0)\n",
    "cv2.destroyAllWindows()"
   ]
  },
  {
   "cell_type": "code",
   "execution_count": 2,
   "metadata": {},
   "outputs": [],
   "source": [
    "#Rotation\n",
    "\n",
    "M = cv2.getRotationMatrix2D((0,0), -30,1)\n",
    "rotated = cv2.warpAffine(img, M, (img.shape[1], img.shape[0]))\n",
    "cv2.imshow(\"Rotated\", rotated)\n",
    "\n",
    "\n",
    "cv2.waitKey(0)\n",
    "cv2.destroyAllWindows()"
   ]
  },
  {
   "cell_type": "code",
   "execution_count": null,
   "metadata": {},
   "outputs": [],
   "source": []
  }
 ],
 "metadata": {
  "kernelspec": {
   "display_name": "Python 3",
   "language": "python",
   "name": "python3"
  },
  "language_info": {
   "codemirror_mode": {
    "name": "ipython",
    "version": 3
   },
   "file_extension": ".py",
   "mimetype": "text/x-python",
   "name": "python",
   "nbconvert_exporter": "python",
   "pygments_lexer": "ipython3",
   "version": "3.6.5"
  }
 },
 "nbformat": 4,
 "nbformat_minor": 2
}
